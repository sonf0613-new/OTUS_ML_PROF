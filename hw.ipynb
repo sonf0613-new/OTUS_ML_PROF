{
 "cells": [
  {
   "cell_type": "markdown",
   "metadata": {},
   "source": [
    "# Часть 1. Парсинг"
   ]
  },
  {
   "cell_type": "markdown",
   "metadata": {},
   "source": [
    "Соберем данные с сайта https://dzen.ru/news/top/region/Moscow?issue_tld=ru. <br>В таблице отражаются 15 первых сюжетов новостей из топа Яндекс-новостей и статистика по ним.<br>ПВ таблицу добавлен столбец 'place', который показывает место новости в рейтинге."
   ]
  },
  {
   "cell_type": "code",
   "execution_count": 1,
   "metadata": {},
   "outputs": [],
   "source": [
    "import requests\n",
    "from bs4 import BeautifulSoup\n",
    "import pandas as pd\n",
    "from datetime import datetime\n",
    "import re\n",
    "import numpy as np\n",
    "import matplotlib.pyplot as plt\n",
    "%matplotlib inline\n",
    "import seaborn as sns\n",
    "from tqdm import tqdm_notebook\n",
    "from sklearn.metrics import *\n",
    "import warnings\n",
    "warnings.filterwarnings(\"ignore\") "
   ]
  },
  {
   "cell_type": "code",
   "execution_count": 2,
   "metadata": {},
   "outputs": [],
   "source": [
    "def get_stat_data():\n",
    "#     cookies = {your cookies here#             \n",
    "#         }\n",
    "\n",
    "    headers = {\n",
    "        'Accept': 'text/html,application/xhtml+xml,application/xml;q=0.9,image/avif,image/webp,image/apng,*/*;q=0.8,application/signed-exchange;v=b3;q=0.9',\n",
    "        'Accept-Language': 'ru,ru-RU;q=0.9',\n",
    "        'Cache-Control': 'max-age=0',\n",
    "        'Connection': 'keep-alive',\n",
    "        # Requests sorts cookies= alphabetically\n",
    "        # 'Cookie': 'nc=tips=1663061604787%3Bfavorites-button:1#search-visits-per-week=1:1665662757000; yandex_login=ksk1496; gdpr=0; _ym_uid=1663056123518611958; _ym_d=1663056123; sso_checked=1; Session_id=3:1663328297.5.0.1663328297717:oyulXw:16C.1.2:1|566202596.0.2|64:10003806.969334.nylHXnqjzYDpHUeeMcngawJGwBU; ys=udn.cDprc2sxNDk2#c_chck.1491327450; yandexuid=6356389931661544626; mda2_beacon=1663328297755; tmr_lvid=cd2befa5d9e2355ae7965265ed50d217; tmr_lvidTS=1663769907592; bltsr=1; crookie=e73r40jfJLEIKat91sFZcOf8WfDs5QFNV5TimgRlB780+t/oPlEEyB/FNGZTEEmeeEEjFgk5gOOKlwNl0cP8tJWGoB8=; cmtchd=MTY2NjI1NjkyOTIwMw==; KIykI=1; _yasc=VmzFOB935Ls1jsns8nQ990lGRv3FTOooP2H+MjIwgNssD0pWwgg5K5QzqTw=; _ym_isad=1; tmr_detect=0%7C1666698972628; tmr_reqNum=243',\n",
    "        'Sec-Fetch-Dest': 'document',\n",
    "        'Sec-Fetch-Mode': 'navigate',\n",
    "        'Sec-Fetch-Site': 'none',\n",
    "        'Sec-Fetch-User': '?1',\n",
    "        'Upgrade-Insecure-Requests': '1',\n",
    "        'User-Agent': 'Mozilla/5.0 (Macintosh; Intel Mac OS X 10_15_7) AppleWebKit/537.36 (KHTML, like Gecko) Chrome/106.0.0.0 Safari/537.36',\n",
    "        'sec-ch-ua': '\"Chromium\";v=\"106\", \"Google Chrome\";v=\"106\", \"Not;A=Brand\";v=\"99\"',\n",
    "        'sec-ch-ua-mobile': '?0',\n",
    "        'sec-ch-ua-platform': '\"macOS\"',\n",
    "    }\n",
    "\n",
    "    params = {\n",
    "        'issue_tld': 'ru',\n",
    "    }\n",
    "\n",
    "    response = requests.get('https://dzen.ru/news/top/region/Moscow', params=params, cookies=cookies, headers=headers)\n",
    "    soup = BeautifulSoup(response.text)\n",
    "    data = []\n",
    "    for row in soup.find('div', class_='news-top-table__content'):\n",
    "        row_stat = row.find('div', class_='news-top-table__stat')\n",
    "        instory_url = row_stat.find('a')['href'].replace('/story/', '/instory/')\n",
    "        story_title = row_stat.find('a').text\n",
    "        row_list = [item.text for item in row_stat.find_all('span', class_='news-top-table__stat-item')]\n",
    "        story_id = int(re.search(r'(?<=persistent_id=)\\d+', instory_url).group(0))\n",
    "        row_list.insert(0, story_id)\n",
    "        row_list.insert(1, instory_url)\n",
    "        row_list.insert(2, story_title)\n",
    "        data.append(row_list)\n",
    "\n",
    "    dt_object = (datetime.now()).strftime('%d.%m.%Y %H:%M')\n",
    "\n",
    "    df_stat = pd.DataFrame(data, columns=['story_id',                 # id_сюжета\n",
    "                                          'instory_url',              # Ссылка\n",
    "                                          'story_title',              # Название сюжета\n",
    "                                          'story_docs_per_hour',      # Сообщений за час\n",
    "                                          'story_docs_total_number',  # Документов в сюжете\n",
    "                                          'number_stories_in_theme',  # Сюжетов в теме\n",
    "                                          'docs_in_theme',            # Документов в теме\n",
    "                                          'story_views',              # Просмотры сюжета\n",
    "                                          'region_interest',          # Региональный интерес\n",
    "                                          'story_weight',             # Вес сюжета\n",
    "                                          'rubric'])                  # Рубрика\n",
    "\n",
    "    df_stat['story_views'] = df_stat['story_views'].str.replace('%', '').astype(float, errors='ignore')\n",
    "    df_stat['dt_now'] = dt_object\n",
    "    df_stat['place'] = range(1, len(df_stat) + 1)\n",
    "    return df_stat"
   ]
  },
  {
   "cell_type": "code",
   "execution_count": 3,
   "metadata": {},
   "outputs": [
    {
     "data": {
      "text/html": [
       "<div>\n",
       "<style scoped>\n",
       "    .dataframe tbody tr th:only-of-type {\n",
       "        vertical-align: middle;\n",
       "    }\n",
       "\n",
       "    .dataframe tbody tr th {\n",
       "        vertical-align: top;\n",
       "    }\n",
       "\n",
       "    .dataframe thead th {\n",
       "        text-align: right;\n",
       "    }\n",
       "</style>\n",
       "<table border=\"1\" class=\"dataframe\">\n",
       "  <thead>\n",
       "    <tr style=\"text-align: right;\">\n",
       "      <th></th>\n",
       "      <th>story_id</th>\n",
       "      <th>instory_url</th>\n",
       "      <th>story_title</th>\n",
       "      <th>story_docs_per_hour</th>\n",
       "      <th>story_docs_total_number</th>\n",
       "      <th>number_stories_in_theme</th>\n",
       "      <th>docs_in_theme</th>\n",
       "      <th>story_views</th>\n",
       "      <th>region_interest</th>\n",
       "      <th>story_weight</th>\n",
       "      <th>rubric</th>\n",
       "      <th>dt_now</th>\n",
       "      <th>place</th>\n",
       "    </tr>\n",
       "  </thead>\n",
       "  <tbody>\n",
       "    <tr>\n",
       "      <th>0</th>\n",
       "      <td>2311362599</td>\n",
       "      <td>https://dzen.ru/news/instory/Gibridnye_operaci...</td>\n",
       "      <td>Гибридные операционные открыли в НИИ скорой по...</td>\n",
       "      <td>0</td>\n",
       "      <td>4</td>\n",
       "      <td>2</td>\n",
       "      <td>4</td>\n",
       "      <td>35.21</td>\n",
       "      <td>Высокий</td>\n",
       "      <td>Средний</td>\n",
       "      <td>Здоровье</td>\n",
       "      <td>14.03.2023 14:27</td>\n",
       "      <td>1</td>\n",
       "    </tr>\n",
       "    <tr>\n",
       "      <th>1</th>\n",
       "      <td>2418560002</td>\n",
       "      <td>https://dzen.ru/news/instory/Sobyanin_vTekhnop...</td>\n",
       "      <td>Собянин: в «Технополисе „Москва“ запустят прои...</td>\n",
       "      <td>1</td>\n",
       "      <td>28</td>\n",
       "      <td>1</td>\n",
       "      <td>28</td>\n",
       "      <td>8.86</td>\n",
       "      <td>Высокий</td>\n",
       "      <td>Низкий</td>\n",
       "      <td>Общество</td>\n",
       "      <td>14.03.2023 14:27</td>\n",
       "      <td>2</td>\n",
       "    </tr>\n",
       "    <tr>\n",
       "      <th>2</th>\n",
       "      <td>2419760449</td>\n",
       "      <td>https://dzen.ru/news/instory/VSolnceve_postroy...</td>\n",
       "      <td>В Солнцеве построят жилой микрорайон с обществ...</td>\n",
       "      <td>2</td>\n",
       "      <td>9</td>\n",
       "      <td>2</td>\n",
       "      <td>16</td>\n",
       "      <td>4.75</td>\n",
       "      <td>Высокий</td>\n",
       "      <td>Низкий</td>\n",
       "      <td>Общество</td>\n",
       "      <td>14.03.2023 14:27</td>\n",
       "      <td>3</td>\n",
       "    </tr>\n",
       "    <tr>\n",
       "      <th>3</th>\n",
       "      <td>2413762066</td>\n",
       "      <td>https://dzen.ru/news/instory/Bochkarev_Avtomob...</td>\n",
       "      <td>Бочкарев: Автомобильный мост через реку Битцу ...</td>\n",
       "      <td>0</td>\n",
       "      <td>10</td>\n",
       "      <td>2</td>\n",
       "      <td>14</td>\n",
       "      <td>8.08</td>\n",
       "      <td>Высокий</td>\n",
       "      <td>Низкий</td>\n",
       "      <td>Транспорт</td>\n",
       "      <td>14.03.2023 14:27</td>\n",
       "      <td>4</td>\n",
       "    </tr>\n",
       "    <tr>\n",
       "      <th>4</th>\n",
       "      <td>2406560946</td>\n",
       "      <td>https://dzen.ru/news/instory/Deptrans_Art-obek...</td>\n",
       "      <td>Дептранс: Арт-объект «Ковер-самолет» останется...</td>\n",
       "      <td>3</td>\n",
       "      <td>15</td>\n",
       "      <td>1</td>\n",
       "      <td>15</td>\n",
       "      <td>4.20</td>\n",
       "      <td>Высокий</td>\n",
       "      <td>Низкий</td>\n",
       "      <td>Общество</td>\n",
       "      <td>14.03.2023 14:27</td>\n",
       "      <td>5</td>\n",
       "    </tr>\n",
       "    <tr>\n",
       "      <th>5</th>\n",
       "      <td>2429360991</td>\n",
       "      <td>https://dzen.ru/news/instory/Sobyanin_rasskaza...</td>\n",
       "      <td>Собянин рассказал о развитии программы реновац...</td>\n",
       "      <td>10</td>\n",
       "      <td>10</td>\n",
       "      <td>1</td>\n",
       "      <td>10</td>\n",
       "      <td>2.33</td>\n",
       "      <td>Высокий</td>\n",
       "      <td>Низкий</td>\n",
       "      <td>Общество</td>\n",
       "      <td>14.03.2023 14:27</td>\n",
       "      <td>6</td>\n",
       "    </tr>\n",
       "    <tr>\n",
       "      <th>6</th>\n",
       "      <td>2429760626</td>\n",
       "      <td>https://dzen.ru/news/instory/Vladelcy_punktov_...</td>\n",
       "      <td>Владельцы пунктов выдачи Wildberries массово в...</td>\n",
       "      <td>5</td>\n",
       "      <td>8</td>\n",
       "      <td>3</td>\n",
       "      <td>38</td>\n",
       "      <td>1.21</td>\n",
       "      <td>Высокий</td>\n",
       "      <td>Низкий</td>\n",
       "      <td>Общество</td>\n",
       "      <td>14.03.2023 14:27</td>\n",
       "      <td>7</td>\n",
       "    </tr>\n",
       "    <tr>\n",
       "      <th>7</th>\n",
       "      <td>2415360304</td>\n",
       "      <td>https://dzen.ru/news/instory/Sergunina_VMoskve...</td>\n",
       "      <td>Сергунина: В Москве утвержден предмет охраны м...</td>\n",
       "      <td>1</td>\n",
       "      <td>14</td>\n",
       "      <td>1</td>\n",
       "      <td>14</td>\n",
       "      <td>20.14</td>\n",
       "      <td>Высокий</td>\n",
       "      <td>Низкий</td>\n",
       "      <td>Общество</td>\n",
       "      <td>14.03.2023 14:27</td>\n",
       "      <td>8</td>\n",
       "    </tr>\n",
       "    <tr>\n",
       "      <th>8</th>\n",
       "      <td>2413762042</td>\n",
       "      <td>https://dzen.ru/news/instory/Okolo_65_milliona...</td>\n",
       "      <td>Около 6,5 миллиона карт «Тройка» с отечественн...</td>\n",
       "      <td>2</td>\n",
       "      <td>22</td>\n",
       "      <td>1</td>\n",
       "      <td>22</td>\n",
       "      <td>4.32</td>\n",
       "      <td>Высокий</td>\n",
       "      <td>Низкий</td>\n",
       "      <td>Общество</td>\n",
       "      <td>14.03.2023 14:27</td>\n",
       "      <td>9</td>\n",
       "    </tr>\n",
       "    <tr>\n",
       "      <th>9</th>\n",
       "      <td>2424160295</td>\n",
       "      <td>https://dzen.ru/news/instory/Dom_porenovacii_v...</td>\n",
       "      <td>Дом по реновации в Лосиноостровском районе вып...</td>\n",
       "      <td>0</td>\n",
       "      <td>2</td>\n",
       "      <td>1</td>\n",
       "      <td>2</td>\n",
       "      <td>4.33</td>\n",
       "      <td>Высокий</td>\n",
       "      <td>Низкий</td>\n",
       "      <td>ЖКХ</td>\n",
       "      <td>14.03.2023 14:27</td>\n",
       "      <td>10</td>\n",
       "    </tr>\n",
       "    <tr>\n",
       "      <th>10</th>\n",
       "      <td>2413762062</td>\n",
       "      <td>https://dzen.ru/news/instory/Novostrojku_na16-...</td>\n",
       "      <td>Новостройку на 16-й Парковой улице передадут п...</td>\n",
       "      <td>0</td>\n",
       "      <td>8</td>\n",
       "      <td>2</td>\n",
       "      <td>19</td>\n",
       "      <td>1.64</td>\n",
       "      <td>Средний</td>\n",
       "      <td>Низкий</td>\n",
       "      <td>Общество</td>\n",
       "      <td>14.03.2023 14:27</td>\n",
       "      <td>11</td>\n",
       "    </tr>\n",
       "    <tr>\n",
       "      <th>11</th>\n",
       "      <td>2416560596</td>\n",
       "      <td>https://dzen.ru/news/instory/VMoskve_provedut_...</td>\n",
       "      <td>В Москве проведут капремонт культурно-досугово...</td>\n",
       "      <td>1</td>\n",
       "      <td>6</td>\n",
       "      <td>1</td>\n",
       "      <td>6</td>\n",
       "      <td>0.90</td>\n",
       "      <td>Высокий</td>\n",
       "      <td>Низкий</td>\n",
       "      <td>Общество</td>\n",
       "      <td>14.03.2023 14:27</td>\n",
       "      <td>12</td>\n",
       "    </tr>\n",
       "    <tr>\n",
       "      <th>12</th>\n",
       "      <td>2408160398</td>\n",
       "      <td>https://dzen.ru/news/instory/Sergej_Sobyanin_s...</td>\n",
       "      <td>Сергей Собянин сообщил о завершении реконструк...</td>\n",
       "      <td>0</td>\n",
       "      <td>47</td>\n",
       "      <td>2</td>\n",
       "      <td>64</td>\n",
       "      <td>2.00</td>\n",
       "      <td>Высокий</td>\n",
       "      <td>Низкий</td>\n",
       "      <td>Транспорт</td>\n",
       "      <td>14.03.2023 14:27</td>\n",
       "      <td>13</td>\n",
       "    </tr>\n",
       "    <tr>\n",
       "      <th>13</th>\n",
       "      <td>2406560312</td>\n",
       "      <td>https://dzen.ru/news/instory/Seminar_povoprosa...</td>\n",
       "      <td>Семинар по вопросам особенностей строительства...</td>\n",
       "      <td>5</td>\n",
       "      <td>5</td>\n",
       "      <td>1</td>\n",
       "      <td>5</td>\n",
       "      <td>0.88</td>\n",
       "      <td>Средний</td>\n",
       "      <td>Низкий</td>\n",
       "      <td>Общество</td>\n",
       "      <td>14.03.2023 14:27</td>\n",
       "      <td>14</td>\n",
       "    </tr>\n",
       "    <tr>\n",
       "      <th>14</th>\n",
       "      <td>2415360425</td>\n",
       "      <td>https://dzen.ru/news/instory/Svyshe_dvukh_tysy...</td>\n",
       "      <td>Свыше двух тысяч публичных сервитутов внесли в...</td>\n",
       "      <td>0</td>\n",
       "      <td>3</td>\n",
       "      <td>1</td>\n",
       "      <td>3</td>\n",
       "      <td>1.15</td>\n",
       "      <td>Высокий</td>\n",
       "      <td>Средний</td>\n",
       "      <td>Общество</td>\n",
       "      <td>14.03.2023 14:27</td>\n",
       "      <td>15</td>\n",
       "    </tr>\n",
       "  </tbody>\n",
       "</table>\n",
       "</div>"
      ],
      "text/plain": [
       "      story_id                                        instory_url  \\\n",
       "0   2311362599  https://dzen.ru/news/instory/Gibridnye_operaci...   \n",
       "1   2418560002  https://dzen.ru/news/instory/Sobyanin_vTekhnop...   \n",
       "2   2419760449  https://dzen.ru/news/instory/VSolnceve_postroy...   \n",
       "3   2413762066  https://dzen.ru/news/instory/Bochkarev_Avtomob...   \n",
       "4   2406560946  https://dzen.ru/news/instory/Deptrans_Art-obek...   \n",
       "5   2429360991  https://dzen.ru/news/instory/Sobyanin_rasskaza...   \n",
       "6   2429760626  https://dzen.ru/news/instory/Vladelcy_punktov_...   \n",
       "7   2415360304  https://dzen.ru/news/instory/Sergunina_VMoskve...   \n",
       "8   2413762042  https://dzen.ru/news/instory/Okolo_65_milliona...   \n",
       "9   2424160295  https://dzen.ru/news/instory/Dom_porenovacii_v...   \n",
       "10  2413762062  https://dzen.ru/news/instory/Novostrojku_na16-...   \n",
       "11  2416560596  https://dzen.ru/news/instory/VMoskve_provedut_...   \n",
       "12  2408160398  https://dzen.ru/news/instory/Sergej_Sobyanin_s...   \n",
       "13  2406560312  https://dzen.ru/news/instory/Seminar_povoprosa...   \n",
       "14  2415360425  https://dzen.ru/news/instory/Svyshe_dvukh_tysy...   \n",
       "\n",
       "                                          story_title story_docs_per_hour  \\\n",
       "0   Гибридные операционные открыли в НИИ скорой по...                   0   \n",
       "1   Собянин: в «Технополисе „Москва“ запустят прои...                   1   \n",
       "2   В Солнцеве построят жилой микрорайон с обществ...                   2   \n",
       "3   Бочкарев: Автомобильный мост через реку Битцу ...                   0   \n",
       "4   Дептранс: Арт-объект «Ковер-самолет» останется...                   3   \n",
       "5   Собянин рассказал о развитии программы реновац...                  10   \n",
       "6   Владельцы пунктов выдачи Wildberries массово в...                   5   \n",
       "7   Сергунина: В Москве утвержден предмет охраны м...                   1   \n",
       "8   Около 6,5 миллиона карт «Тройка» с отечественн...                   2   \n",
       "9   Дом по реновации в Лосиноостровском районе вып...                   0   \n",
       "10  Новостройку на 16-й Парковой улице передадут п...                   0   \n",
       "11  В Москве проведут капремонт культурно-досугово...                   1   \n",
       "12  Сергей Собянин сообщил о завершении реконструк...                   0   \n",
       "13  Семинар по вопросам особенностей строительства...                   5   \n",
       "14  Свыше двух тысяч публичных сервитутов внесли в...                   0   \n",
       "\n",
       "   story_docs_total_number number_stories_in_theme docs_in_theme  story_views  \\\n",
       "0                        4                       2             4        35.21   \n",
       "1                       28                       1            28         8.86   \n",
       "2                        9                       2            16         4.75   \n",
       "3                       10                       2            14         8.08   \n",
       "4                       15                       1            15         4.20   \n",
       "5                       10                       1            10         2.33   \n",
       "6                        8                       3            38         1.21   \n",
       "7                       14                       1            14        20.14   \n",
       "8                       22                       1            22         4.32   \n",
       "9                        2                       1             2         4.33   \n",
       "10                       8                       2            19         1.64   \n",
       "11                       6                       1             6         0.90   \n",
       "12                      47                       2            64         2.00   \n",
       "13                       5                       1             5         0.88   \n",
       "14                       3                       1             3         1.15   \n",
       "\n",
       "   region_interest story_weight     rubric            dt_now  place  \n",
       "0          Высокий      Средний   Здоровье  14.03.2023 14:27      1  \n",
       "1          Высокий       Низкий   Общество  14.03.2023 14:27      2  \n",
       "2          Высокий       Низкий   Общество  14.03.2023 14:27      3  \n",
       "3          Высокий       Низкий  Транспорт  14.03.2023 14:27      4  \n",
       "4          Высокий       Низкий   Общество  14.03.2023 14:27      5  \n",
       "5          Высокий       Низкий   Общество  14.03.2023 14:27      6  \n",
       "6          Высокий       Низкий   Общество  14.03.2023 14:27      7  \n",
       "7          Высокий       Низкий   Общество  14.03.2023 14:27      8  \n",
       "8          Высокий       Низкий   Общество  14.03.2023 14:27      9  \n",
       "9          Высокий       Низкий        ЖКХ  14.03.2023 14:27     10  \n",
       "10         Средний       Низкий   Общество  14.03.2023 14:27     11  \n",
       "11         Высокий       Низкий   Общество  14.03.2023 14:27     12  \n",
       "12         Высокий       Низкий  Транспорт  14.03.2023 14:27     13  \n",
       "13         Средний       Низкий   Общество  14.03.2023 14:27     14  \n",
       "14         Высокий      Средний   Общество  14.03.2023 14:27     15  "
      ]
     },
     "execution_count": 3,
     "metadata": {},
     "output_type": "execute_result"
    }
   ],
   "source": [
    "get_stat_data()"
   ]
  },
  {
   "cell_type": "markdown",
   "metadata": {},
   "source": [
    "# Часть 2. NLP"
   ]
  },
  {
   "cell_type": "markdown",
   "metadata": {},
   "source": [
    "Вторая часть задания выполнена по отзывам на фильмы с сайта IMDB (https://www.kaggle.com/lakshmi25npathi/imdb-dataset-of-50k-movie-reviews)"
   ]
  },
  {
   "cell_type": "code",
   "execution_count": 4,
   "metadata": {},
   "outputs": [],
   "source": [
    "from sklearn.pipeline import Pipeline\n",
    "from sklearn.linear_model import LogisticRegression\n",
    "from sklearn.model_selection import train_test_split"
   ]
  },
  {
   "cell_type": "code",
   "execution_count": 5,
   "metadata": {},
   "outputs": [],
   "source": [
    "df = pd.read_csv('IMDB Dataset.csv')"
   ]
  },
  {
   "cell_type": "code",
   "execution_count": 6,
   "metadata": {},
   "outputs": [],
   "source": [
    "# Функция для кодирования лейблов\n",
    "def label2num(y):\n",
    "    if y == 'positive':\n",
    "        return 1\n",
    "    if y == 'negative':\n",
    "        return -1\n",
    "    if y == 'neutral':\n",
    "        return 0\n",
    "\n",
    "encoded_y = [label2num(yy) for yy in df['sentiment']]"
   ]
  },
  {
   "cell_type": "markdown",
   "metadata": {},
   "source": [
    "Предобработка текстов"
   ]
  },
  {
   "cell_type": "code",
   "execution_count": 7,
   "metadata": {},
   "outputs": [],
   "source": [
    "import string # библиотека для работы со строками\n",
    "import nltk   # Natural Language Toolkit"
   ]
  },
  {
   "cell_type": "code",
   "execution_count": 8,
   "metadata": {},
   "outputs": [
    {
     "name": "stderr",
     "output_type": "stream",
     "text": [
      "[nltk_data] Downloading package stopwords to\n",
      "[nltk_data]     /Users/kondratevask/nltk_data...\n",
      "[nltk_data]   Package stopwords is already up-to-date!\n"
     ]
    },
    {
     "data": {
      "text/plain": [
       "['i', 'me', 'my', 'myself', 'we', 'our', 'ours', 'ourselves', 'you', \"you're\"]"
      ]
     },
     "execution_count": 8,
     "metadata": {},
     "output_type": "execute_result"
    }
   ],
   "source": [
    "# загружаем список стоп-слов для русского\n",
    "nltk.download('stopwords')\n",
    "stop_words = nltk.corpus.stopwords.words('english')\n",
    "\n",
    "# примеры стоп-слов\n",
    "stop_words[:10]"
   ]
  },
  {
   "cell_type": "code",
   "execution_count": 9,
   "metadata": {},
   "outputs": [
    {
     "data": {
      "text/plain": [
       "'!\"#$%&\\'()*+,-./:;<=>?@[\\\\]^_`{|}~'"
      ]
     },
     "execution_count": 9,
     "metadata": {},
     "output_type": "execute_result"
    }
   ],
   "source": [
    "# знаки препинания\n",
    "string.punctuation"
   ]
  },
  {
   "cell_type": "code",
   "execution_count": 10,
   "metadata": {},
   "outputs": [],
   "source": [
    "stop_words.extend(['br'])"
   ]
  },
  {
   "cell_type": "code",
   "execution_count": 11,
   "metadata": {},
   "outputs": [],
   "source": [
    "word_tokenizer = nltk.WordPunctTokenizer()"
   ]
  },
  {
   "cell_type": "code",
   "execution_count": 12,
   "metadata": {},
   "outputs": [],
   "source": [
    "dates = [str(x) for x in np.arange(1900, 2022)]"
   ]
  },
  {
   "cell_type": "code",
   "execution_count": 13,
   "metadata": {},
   "outputs": [],
   "source": [
    "def remove_punctuation(text):\n",
    "    return \"\".join([ch if ch not in string.punctuation else \" \" for ch in text])"
   ]
  },
  {
   "cell_type": "code",
   "execution_count": 14,
   "metadata": {},
   "outputs": [],
   "source": [
    "def process_data(data):\n",
    "    texts = []\n",
    "    targets = []\n",
    "    for item in data:\n",
    "        text = remove_punctuation(item)\n",
    "        text_lower = text.lower() # приводим все слова к нижнему регистру\n",
    "        tokens     = word_tokenizer.tokenize(text_lower) #разбиваем текст на слова\n",
    "        \n",
    "        # удаляем пунктуацию и стоп-слова\n",
    "        tokens = [word for word in tokens if (word not in stop_words and word not in dates)]\n",
    "        \n",
    "        texts.append(tokens) # добавляем в предобработанный список\n",
    "    \n",
    "    return texts"
   ]
  },
  {
   "cell_type": "code",
   "execution_count": 15,
   "metadata": {},
   "outputs": [],
   "source": [
    "# запускаем нашу предобработку\n",
    "texts = process_data(df['review'].to_list())"
   ]
  },
  {
   "cell_type": "code",
   "execution_count": 16,
   "metadata": {},
   "outputs": [],
   "source": [
    "# Lemmatize\n",
    "\n",
    "# загружаем библиотеку для лемматизации\n",
    "import pymorphy2 # Морфологический анализатор\n",
    "\n",
    "# инициализируем лемматизатор :)\n",
    "morph = pymorphy2.MorphAnalyzer()"
   ]
  },
  {
   "cell_type": "code",
   "execution_count": 17,
   "metadata": {},
   "outputs": [
    {
     "data": {
      "application/vnd.jupyter.widget-view+json": {
       "model_id": "191b1549132e4930b46762bfe26a1b80",
       "version_major": 2,
       "version_minor": 0
      },
      "text/plain": [
       "  0%|          | 0/50000 [00:00<?, ?it/s]"
      ]
     },
     "metadata": {},
     "output_type": "display_data"
    }
   ],
   "source": [
    "# применяем лемматизацию ко всем текстам\n",
    "for i in tqdm_notebook(range(len(texts))):           # tqdm_notebook создает шкалу прогресса :)\n",
    "    text_lemmatized = [morph.parse(x)[0].normal_form for x in texts[i]] # применяем лемматизацию для каждого слова в тексте\n",
    "    texts[i] = ' '.join(text_lemmatized)  "
   ]
  },
  {
   "cell_type": "code",
   "execution_count": 18,
   "metadata": {},
   "outputs": [],
   "source": [
    "#train test_split\n",
    "train_texts, test_texts, train_y, test_y = train_test_split(texts, encoded_y, \n",
    "                                                            test_size=0.2, \n",
    "                                                            random_state=42, \n",
    "                                                            stratify = df['sentiment'])"
   ]
  },
  {
   "cell_type": "code",
   "execution_count": 26,
   "metadata": {},
   "outputs": [],
   "source": [
    "from sklearn.feature_extraction.text import TfidfVectorizer\n",
    "\n",
    "vectorizer = TfidfVectorizer(\n",
    "                            analyzer='word',\n",
    "#                             ngram_range=(1,2),\n",
    "                            min_df=0.2, \n",
    "                            max_df=0.8,\n",
    "                            norm=None,)\n",
    "\n",
    "train_X = vectorizer.fit_transform(train_texts)\n",
    "test_X  = vectorizer.transform(test_texts)"
   ]
  },
  {
   "cell_type": "code",
   "execution_count": 27,
   "metadata": {},
   "outputs": [
    {
     "data": {
      "text/plain": [
       "((40000, 31), (10000, 31))"
      ]
     },
     "execution_count": 27,
     "metadata": {},
     "output_type": "execute_result"
    }
   ],
   "source": [
    "train_X.shape, test_X.shape"
   ]
  },
  {
   "cell_type": "code",
   "execution_count": 28,
   "metadata": {},
   "outputs": [],
   "source": [
    "def visualize_coefficients(classifier, feature_names, n_top_features=25):\n",
    "    # get coefficients with large absolute values \n",
    "    coef = classifier.coef_.ravel()\n",
    "    positive_coefficients = np.argsort(coef)[-n_top_features:]\n",
    "    negative_coefficients = np.argsort(coef)[:n_top_features]\n",
    "    interesting_coefficients = np.hstack([negative_coefficients, positive_coefficients])\n",
    "    # plot them\n",
    "    plt.figure(figsize=(30, 5))\n",
    "    colors = [\"red\" if c < 0 else \"blue\" for c in coef[interesting_coefficients]]\n",
    "    plt.bar(np.arange(2 * n_top_features), coef[interesting_coefficients], color=colors)\n",
    "    feature_names = np.array(feature_names)\n",
    "    plt.xticks(np.arange(1, 1 + 2 * n_top_features), feature_names[interesting_coefficients], rotation=60, ha=\"right\");\n"
   ]
  },
  {
   "cell_type": "code",
   "execution_count": 29,
   "metadata": {},
   "outputs": [],
   "source": [
    "def plot_grid_scores(grid, param_name):\n",
    "    plt.plot(grid.param_grid[param_name], grid.cv_results_['mean_train_score'],\n",
    "    color='green', label='train')\n",
    "    plt.plot(grid.param_grid[param_name], grid.cv_results_['mean_test_score'],\n",
    "    color='red', label='test')\n",
    "    plt.legend();"
   ]
  },
  {
   "cell_type": "code",
   "execution_count": 30,
   "metadata": {},
   "outputs": [
    {
     "name": "stdout",
     "output_type": "stream",
     "text": [
      "0.7516\n",
      "grid_logit.best_params_{'logisticregression__C': 0.001}, grid_logit.best_score_0.7490000321854454\n"
     ]
    },
    {
     "data": {
      "text/plain": [
       "0.7509"
      ]
     },
     "execution_count": 30,
     "metadata": {},
     "output_type": "execute_result"
    },
    {
     "data": {
      "image/png": "[encoded data removed]",
      "text/plain": [
       "<Figure size 432x288 with 1 Axes>"
      ]
     },
     "metadata": {
      "needs_background": "light"
     },
     "output_type": "display_data"
    }
   ],
   "source": [
    "from sklearn.pipeline import make_pipeline\n",
    "\n",
    "text_pipe_logit = make_pipeline(TfidfVectorizer(\n",
    "                                                analyzer='char',\n",
    "                                                ngram_range=(1,2),\n",
    "                                                min_df=0.2, \n",
    "                                                max_df=0.8,\n",
    "                                                norm=None), \n",
    "                                LogisticRegression(n_jobs=-1, random_state=7))\n",
    "\n",
    "text_pipe_logit.fit(train_texts, train_y)\n",
    "print(text_pipe_logit.score(test_texts, test_y))\n",
    "\n",
    "from sklearn.model_selection import GridSearchCV\n",
    "\n",
    "param_grid_logit = {'logisticregression__C': np.logspace(-5, 0, 6)}\n",
    "grid_logit = GridSearchCV(text_pipe_logit, param_grid_logit, cv=3, n_jobs=-1, return_train_score=True)\n",
    "\n",
    "grid_logit.fit(train_texts, train_y)\n",
    "print(f'grid_logit.best_params_{grid_logit.best_params_}, grid_logit.best_score_{grid_logit.best_score_}')\n",
    "plot_grid_scores(grid_logit, 'logisticregression__C')\n",
    "grid_logit.score(test_texts, test_y)"
   ]
  },
  {
   "cell_type": "code",
   "execution_count": 31,
   "metadata": {},
   "outputs": [
    {
     "name": "stdout",
     "output_type": "stream",
     "text": [
      "0.8987\n",
      "grid_logit.best_params_{'logisticregression__C': 1.0}, grid_logit.best_score_0.8905499261150345\n"
     ]
    },
    {
     "data": {
      "text/plain": [
       "0.8987"
      ]
     },
     "execution_count": 31,
     "metadata": {},
     "output_type": "execute_result"
    },
    {
     "data": {
      "image/png": "[encoded data removed]",
      "text/plain": [
       "<Figure size 432x288 with 1 Axes>"
      ]
     },
     "metadata": {
      "needs_background": "light"
     },
     "output_type": "display_data"
    }
   ],
   "source": [
    "from sklearn.pipeline import make_pipeline\n",
    "\n",
    "text_pipe_logit = make_pipeline(TfidfVectorizer(), \n",
    "                                LogisticRegression(n_jobs=-1, random_state=7))\n",
    "\n",
    "text_pipe_logit.fit(train_texts, train_y)\n",
    "print(text_pipe_logit.score(test_texts, test_y))\n",
    "\n",
    "from sklearn.model_selection import GridSearchCV\n",
    "\n",
    "param_grid_logit = {'logisticregression__C': np.logspace(-5, 0, 6)}\n",
    "grid_logit = GridSearchCV(text_pipe_logit, param_grid_logit, cv=3, n_jobs=-1, return_train_score=True)\n",
    "\n",
    "grid_logit.fit(train_texts, train_y)\n",
    "print(f'grid_logit.best_params_{grid_logit.best_params_}, grid_logit.best_score_{grid_logit.best_score_}')\n",
    "plot_grid_scores(grid_logit, 'logisticregression__C')\n",
    "grid_logit.score(test_texts, test_y)\n",
    "\n",
    "# visualize_coefficients(model, vectorizer.get_feature_names(), n_top_features=50)"
   ]
  },
  {
   "cell_type": "code",
   "execution_count": 32,
   "metadata": {},
   "outputs": [],
   "source": [
    "# создаем чистовую модель, учитывая лучшие параметры\n",
    "from sklearn.feature_extraction.text import TfidfVectorizer\n",
    "\n",
    "vectorizer = TfidfVectorizer()\n",
    "\n",
    "train_X = vectorizer.fit_transform(train_texts)\n",
    "test_X  = vectorizer.transform(test_texts)\n",
    "\n",
    "logreg = LogisticRegression(C=1.0, n_jobs=-1, random_state=7)\n",
    "logreg.fit(train_X, train_y)\n",
    "logreg_pred = logreg.predict(test_X)"
   ]
  },
  {
   "cell_type": "code",
   "execution_count": 33,
   "metadata": {},
   "outputs": [
    {
     "data": {
      "image/png": "[encoded data removed]",
      "text/plain": [
       "<Figure size 2160x360 with 1 Axes>"
      ]
     },
     "metadata": {
      "needs_background": "light"
     },
     "output_type": "display_data"
    }
   ],
   "source": [
    "visualize_coefficients(logreg, vectorizer.get_feature_names(), n_top_features=50)"
   ]
  },
  {
   "cell_type": "code",
   "execution_count": 34,
   "metadata": {},
   "outputs": [
    {
     "name": "stdout",
     "output_type": "stream",
     "text": [
      "              precision    recall  f1-score   support\n",
      "\n",
      "          -1       0.91      0.89      0.90      5000\n",
      "           1       0.89      0.91      0.90      5000\n",
      "\n",
      "    accuracy                           0.90     10000\n",
      "   macro avg       0.90      0.90      0.90     10000\n",
      "weighted avg       0.90      0.90      0.90     10000\n",
      "\n"
     ]
    }
   ],
   "source": [
    "from sklearn.metrics import classification_report\n",
    "print(classification_report(test_y, logreg_pred))"
   ]
  },
  {
   "cell_type": "code",
   "execution_count": null,
   "metadata": {},
   "outputs": [],
   "source": []
  }
 ],
 "metadata": {
  "kernelspec": {
   "display_name": "Python 3",
   "language": "python",
   "name": "python3"
  },
  "language_info": {
   "codemirror_mode": {
    "name": "ipython",
    "version": 3
   },
   "file_extension": ".py",
   "mimetype": "text/x-python",
   "name": "python",
   "nbconvert_exporter": "python",
   "pygments_lexer": "ipython3",
   "version": "3.8.5"
  }
 },
 "nbformat": 4,
 "nbformat_minor": 4
}
